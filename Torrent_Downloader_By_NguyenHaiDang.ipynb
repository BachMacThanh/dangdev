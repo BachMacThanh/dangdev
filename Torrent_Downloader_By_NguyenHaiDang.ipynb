{
  "nbformat": 4,
  "nbformat_minor": 0,
  "metadata": {
    "colab": {
      "name": "Torrent Downloader By NguyenHaiDang",
      "private_outputs": true,
      "provenance": [],
      "collapsed_sections": [
        "6g_IB8ByHvjG"
      ],
      "toc_visible": true,
      "include_colab_link": true
    },
    "kernelspec": {
      "display_name": "Python 3",
      "name": "python3"
    }
  },
  "cells": [
    {
      "cell_type": "markdown",
      "metadata": {
        "id": "view-in-github",
        "colab_type": "text"
      },
      "source": [
        "<a href=\"https://colab.research.google.com/github/DangDev/dangdev.github.io/blob/main/Torrent_Downloader_By_NguyenHaiDang.ipynb\" target=\"_parent\"><img src=\"https://colab.research.google.com/assets/colab-badge.svg\" alt=\"Open In Colab\"/></a>"
      ]
    },
    {
      "cell_type": "markdown",
      "metadata": {
        "id": "6g_IB8ByHvjG"
      },
      "source": [
        "## ➤ Please do not abuse the torrent, you may be locked out by google colab\n",
        "## ➤ If you share these notebooks, please specify the source\n",
        "\n",
        "## ➤ Vui lòng không lạm dụng torrent, bạn có thể bị khóa bởi google colab\n",
        "## ➤ Nếu bạn chia sẻ notebooks này, vui lòng ghi rõ nguồn "
      ]
    },
    {
      "cell_type": "markdown",
      "metadata": {
        "id": "FbE4GIiTrdry"
      },
      "source": [
        "## Download torrent library - Tải xuống thư viện torrent"
      ]
    },
    {
      "cell_type": "code",
      "metadata": {
        "id": "BrbgVWxBrmc6"
      },
      "source": [
        "!apt install python3-libtorrent\n",
        "\n",
        "import libtorrent as lt\n",
        "\n",
        "ses = lt.session()\n",
        "ses.listen_on(6881, 6891)\n",
        "downloads = []"
      ],
      "execution_count": null,
      "outputs": []
    },
    {
      "cell_type": "markdown",
      "metadata": {
        "id": "MweRGnJjrytD"
      },
      "source": [
        "## Upload your torrent - Tải lên torrent của bạn"
      ]
    },
    {
      "cell_type": "code",
      "metadata": {
        "id": "LSRe9Cdrr3TL"
      },
      "source": [
        "from google.colab import files\n",
        "\n",
        "source = files.upload()\n",
        "params = {\n",
        "    \"save_path\": \"/content/TorrentFiles\",\n",
        "    \"ti\": lt.torrent_info(list(source.keys())[0]),\n",
        "}\n",
        "downloads.append(ses.add_torrent(params))"
      ],
      "execution_count": null,
      "outputs": []
    },
    {
      "cell_type": "markdown",
      "metadata": {
        "id": "v_H3VQEFsGoz"
      },
      "source": [
        "## Start torrenting - Bắt đầu lấy tệp từ torrent"
      ]
    },
    {
      "cell_type": "code",
      "metadata": {
        "id": "KX4J3GUSsKwk"
      },
      "source": [
        "import time\n",
        "from IPython.display import display\n",
        "import ipywidgets as widgets\n",
        "\n",
        "state_str = [\n",
        "    \"queued\",\n",
        "    \"checking\",\n",
        "    \"downloading metadata\",\n",
        "    \"downloading\",\n",
        "    \"finished\",\n",
        "    \"seeding\",\n",
        "    \"allocating\",\n",
        "    \"checking fastresume\",\n",
        "]\n",
        "\n",
        "layout = widgets.Layout(width=\"auto\")\n",
        "style = {\"description_width\": \"initial\"}\n",
        "download_bars = [\n",
        "    widgets.FloatSlider(\n",
        "        step=0.01, disabled=True, layout=layout, style=style\n",
        "    )\n",
        "    for _ in downloads\n",
        "]\n",
        "display(*download_bars)\n",
        "\n",
        "while downloads:\n",
        "    next_shift = 0\n",
        "    for index, download in enumerate(downloads[:]):\n",
        "        bar = download_bars[index + next_shift]\n",
        "        if not download.is_seed():\n",
        "            s = download.status()\n",
        "\n",
        "            bar.description = \" \".join(\n",
        "                [\n",
        "                    download.name(),\n",
        "                    str(s.download_rate / 1000),\n",
        "                    \"kB/s\",\n",
        "                    state_str[s.state],\n",
        "                ]\n",
        "            )\n",
        "            bar.value = s.progress * 100\n",
        "        else:\n",
        "            next_shift -= 1\n",
        "            ses.remove_torrent(download)\n",
        "            downloads.remove(download)\n",
        "            bar.close() # Seems to be not working in Colab (see https://github.com/googlecolab/colabtools/issues/726#issue-486731758)\n",
        "            download_bars.remove(bar)\n",
        "            print(download.name(), \"complete\")\n",
        "    time.sleep(1)\n"
      ],
      "execution_count": null,
      "outputs": []
    },
    {
      "cell_type": "markdown",
      "metadata": {
        "id": "hJdIo2KL2g82"
      },
      "source": [
        "## Download file from torrent by zipping method - Tải xuống tệp từ torrent bằng cánh đóng gói zip"
      ]
    },
    {
      "cell_type": "code",
      "metadata": {
        "id": "eG3SjRK52sad"
      },
      "source": [
        "from google.colab import files\n",
        "!zip -r /content/result.zip /content/TorrentFiles\n",
        "files.download(\"/content/result.zip\")"
      ],
      "execution_count": null,
      "outputs": []
    },
    {
      "cell_type": "markdown",
      "metadata": {
        "id": "Q-n6gIi5svSU"
      },
      "source": [
        "Vietnamese language:\n",
        "\n",
        "1.   Mọi tệp của bạn được lưu trong thư mục /Torrent\n",
        "2.   Nếu bạn cần tải tệp đơn lẻ, truy cập vào hệ thống quản lý tệp của Colab\n",
        "3.   Tính năng đóng gói zip sẽ mất khá nhiều thời gian, nhưng bù lại tốc độ download tệp của bạn sẽ tăng lên rất nhiều. Colab sẽ vừa tạo tệp zip vừa lưu nó vào thiết bị của bạn\n",
        "\n",
        "English language:\n",
        "\n",
        "1.   All your files are saved in /Torrent folder\n",
        "2.   If you need to download single files, visit Colab's file management system\n",
        "3.   Zip packaging will take quite a while, but in return your file download speed will increase a lot. Colab will both create a zip file while saving it to your device\n",
        "\n",
        "\n",
        "\n",
        "\n"
      ]
    }
  ]
}